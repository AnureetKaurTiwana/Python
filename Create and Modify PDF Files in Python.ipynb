{
 "cells": [
  {
   "cell_type": "markdown",
   "id": "91b6c824",
   "metadata": {},
   "source": [
    "# Create and Modify PDF Files in Python"
   ]
  },
  {
   "cell_type": "markdown",
   "id": "c6ef6356",
   "metadata": {},
   "source": [
    "# About this notebook:\n",
    "* [1. Read text from a PDF with pypdf](#1)\n",
    "* [2. Split a PDF file into multiple files](#2)\n",
    "* [3. Concatenate and merge PDF files together](#3)\n",
    "* [4. Rotate and crop pages in PDF files](#4)\n",
    "* [5. Encrypt and decrypt PDF files](#5)\n",
    "\n",
    "\n",
    "You’ll use the pypdf library to manipulate existing PDF files and the ReportLab library to create new PDF files from scratch. Along the way, you’ll have several opportunities to deepen your understanding with exercises and examples."
   ]
  },
  {
   "cell_type": "markdown",
   "id": "fc47ac8b",
   "metadata": {},
   "source": [
    "* Extracting Text From PDF Files With pypdf"
   ]
  },
  {
   "cell_type": "code",
   "execution_count": null,
   "id": "fb8bfd28",
   "metadata": {},
   "outputs": [],
   "source": [
    "pip install pypdf"
   ]
  },
  {
   "cell_type": "code",
   "execution_count": null,
   "id": "c91aeb01",
   "metadata": {},
   "outputs": [],
   "source": [
    "pip show pypdf"
   ]
  },
  {
   "cell_type": "markdown",
   "id": "dcbe3478",
   "metadata": {},
   "source": [
    "<a id=\"1\"> <h1> Read text from a PDF with pypdf</h1> </a>\n",
    "    \n",
    "    import the PdfReader class from pypdf\n",
    "    \n",
    "    you’ll need to provide the path to the PDF file that you want to open. You can do that using the pathlib module\n",
    "    "
   ]
  },
  {
   "cell_type": "code",
   "execution_count": null,
   "id": "2a428be8",
   "metadata": {},
   "outputs": [],
   "source": [
    "from pypdf import PdfReader"
   ]
  },
  {
   "cell_type": "code",
   "execution_count": null,
   "id": "73ae02e2",
   "metadata": {},
   "outputs": [],
   "source": [
    "from pathlib import Path"
   ]
  },
  {
   "cell_type": "code",
   "execution_count": null,
   "id": "01bf47d6",
   "metadata": {},
   "outputs": [],
   "source": [
    ">>> pdf_path = Path(\"C:/Users/hp/anaconda3/materials-creating-and-modifying-pdfs/practice_files/Pride_and_Prejudice.pdf\")"
   ]
  },
  {
   "cell_type": "code",
   "execution_count": null,
   "id": "f5f941cc",
   "metadata": {},
   "outputs": [],
   "source": [
    "pdf_reader = PdfReader(pdf_path)"
   ]
  },
  {
   "cell_type": "code",
   "execution_count": null,
   "id": "db32e278",
   "metadata": {},
   "outputs": [],
   "source": [
    "len(pdf_reader.pages)"
   ]
  },
  {
   "cell_type": "code",
   "execution_count": null,
   "id": "6106abd3",
   "metadata": {},
   "outputs": [],
   "source": [
    "pdf_reader.metadata"
   ]
  },
  {
   "cell_type": "markdown",
   "id": "54962863",
   "metadata": {},
   "source": [
    "The object stored in .metadata looks like a dictionary but isn’t the same thing. You can access each item in .metadata as an attribute. For example, to get the title, use the .title attribute:"
   ]
  },
  {
   "cell_type": "code",
   "execution_count": null,
   "id": "c157b987",
   "metadata": {},
   "outputs": [],
   "source": [
    "pdf_reader.metadata.title"
   ]
  },
  {
   "cell_type": "markdown",
   "id": "a3d5e327",
   "metadata": {},
   "source": [
    "## Extracting Text From a Page\n",
    "\n",
    "In pypdf, the PageObject class represents the pages of a PDF file. You use PageObject instances to interact with pages in a PDF file. You don’t need to create your own PageObject instances directly. Instead, you can access them through the PdfReader object’s .pages attribute as you saw before.\n",
    "\n",
    "If you need to extract text from a PDF page, then you need to run the following steps:\n",
    "\n",
    "* Get a PageObject with PdfReader.page[page_index].\n",
    "\n",
    "* Extract the text as a string with the PageObject instance’s .extract_text() method.\n"
   ]
  },
  {
   "cell_type": "code",
   "execution_count": null,
   "id": "ab04c96c",
   "metadata": {},
   "outputs": [],
   "source": [
    "pdf_reader.pages[0].extract_text()"
   ]
  },
  {
   "cell_type": "code",
   "execution_count": null,
   "id": "193d9400",
   "metadata": {},
   "outputs": [],
   "source": [
    "count=0\n",
    "print(\"Print three pages\")\n",
    "for i in pdf_reader.pages:\n",
    "    print(i.extract_text(),end=\"-----------------------\\n\")\n",
    "    count +=1\n",
    "    if count==3:\n",
    "        break"
   ]
  },
  {
   "cell_type": "code",
   "execution_count": null,
   "id": "56beac92",
   "metadata": {},
   "outputs": [],
   "source": [
    "pdf_write=Path(\"C:/Users/hp/anaconda3/materials-creating-and-modifying-pdfs/practice_files/Pride_and_Prejudice.txt\")"
   ]
  },
  {
   "cell_type": "code",
   "execution_count": null,
   "id": "30dcd94e",
   "metadata": {},
   "outputs": [],
   "source": [
    "content=[\n",
    "    f\"{pdf_reader.metadata.title}\",\n",
    "    f\"Number of pages: {len(pdf_reader.pages)}\"\n",
    "]"
   ]
  },
  {
   "cell_type": "code",
   "execution_count": null,
   "id": "601f17e3",
   "metadata": {},
   "outputs": [],
   "source": [
    "content"
   ]
  },
  {
   "cell_type": "code",
   "execution_count": null,
   "id": "6cf83391",
   "metadata": {},
   "outputs": [],
   "source": [
    "for page in pdf_reader.pages:\n",
    "    content.append(page.extract_text())\n",
    "pdf_write.write_text(\"\\n\".join(content))"
   ]
  },
  {
   "cell_type": "markdown",
   "id": "39620a86",
   "metadata": {},
   "source": [
    "<a id=\"2\"> <h1> Retrieving Pages From a PDF File With pypdf </h1> </a>\n",
    "\n",
    "* The width and height arguments are required. \n",
    "* They determine the dimensions of the page in user space units. \n",
    "* One of these units is equal to 1/72 of an inch, so the above code adds an A4 blank page to pdf_writer.\n",
    "\n",
    "## Three steps to create a new PDF file using pypdf:\n",
    "\n",
    "* Create a PdfWriter instance.\n",
    "* Add one or more pages to the PdfWriter instance, using either .add_blank_page() or .add_page().\n",
    "* Write to a file using PdfWriter.write()."
   ]
  },
  {
   "cell_type": "code",
   "execution_count": null,
   "id": "fcbd8d1b",
   "metadata": {},
   "outputs": [],
   "source": [
    "from pypdf import PdfWriter"
   ]
  },
  {
   "cell_type": "code",
   "execution_count": null,
   "id": "4ed83068",
   "metadata": {},
   "outputs": [],
   "source": [
    "pdf_writer=PdfWriter()"
   ]
  },
  {
   "cell_type": "code",
   "execution_count": null,
   "id": "dcf4699d",
   "metadata": {},
   "outputs": [],
   "source": [
    "page = pdf_writer.add_blank_page(width=8.27 * 72, height=11.7 * 72)\n",
    "\n",
    "#add_blank_page return page object"
   ]
  },
  {
   "cell_type": "code",
   "execution_count": null,
   "id": "158dd6ea",
   "metadata": {},
   "outputs": [],
   "source": [
    "page"
   ]
  },
  {
   "cell_type": "code",
   "execution_count": null,
   "id": "ad657497",
   "metadata": {},
   "outputs": [],
   "source": [
    "type(page)"
   ]
  },
  {
   "cell_type": "code",
   "execution_count": null,
   "id": "fa5f284e",
   "metadata": {},
   "outputs": [],
   "source": [
    "pdf_writer.write(\"C:/Users/hp/anaconda3/materials-creating-and-modifying-pdfs/practice_files/blank.pdf\")"
   ]
  },
  {
   "cell_type": "code",
   "execution_count": null,
   "id": "d891d9f9",
   "metadata": {},
   "outputs": [],
   "source": [
    "#Extracting a Single Page From a PDF\n",
    "\n",
    "from pypdf import PdfWriter, PdfReader\n",
    "from pathlib import Path"
   ]
  },
  {
   "cell_type": "code",
   "execution_count": null,
   "id": "cf6e2d99",
   "metadata": {},
   "outputs": [],
   "source": [
    "pdf_path=Path(\"C:/Users/hp/anaconda3/materials-creating-and-modifying-pdfs/practice_files/Pride_and_Prejudice.pdf\")\n",
    "input_pdf=PdfReader(pdf_path)"
   ]
  },
  {
   "cell_type": "code",
   "execution_count": null,
   "id": "f0b7f732",
   "metadata": {},
   "outputs": [],
   "source": [
    "page1=input_pdf.pages[0]"
   ]
  },
  {
   "cell_type": "code",
   "execution_count": null,
   "id": "20db1cbe",
   "metadata": {},
   "outputs": [],
   "source": [
    "output_page=PdfWriter()"
   ]
  },
  {
   "cell_type": "code",
   "execution_count": null,
   "id": "6c3ac493",
   "metadata": {},
   "outputs": [],
   "source": [
    "output_page.add_page(page1)"
   ]
  },
  {
   "cell_type": "code",
   "execution_count": null,
   "id": "1f958c2f",
   "metadata": {},
   "outputs": [],
   "source": [
    "output_page.write(\"C:/Users/hp/anaconda3/materials-creating-and-modifying-pdfs/practice_files/first_page.pdf\")"
   ]
  },
  {
   "cell_type": "code",
   "execution_count": null,
   "id": "f250dc74",
   "metadata": {},
   "outputs": [],
   "source": [
    "for i in input_pdf.pages[1:5]:\n",
    "    output_page.add_page(i)\n"
   ]
  },
  {
   "cell_type": "code",
   "execution_count": null,
   "id": "cd987d7f",
   "metadata": {},
   "outputs": [],
   "source": [
    "len(output_page.pages)"
   ]
  },
  {
   "cell_type": "code",
   "execution_count": null,
   "id": "b113b9f7",
   "metadata": {},
   "outputs": [],
   "source": [
    "output_page.write(\"C:/Users/hp/anaconda3/materials-creating-and-modifying-pdfs/practice_files/chapter1.pdf\")"
   ]
  },
  {
   "cell_type": "markdown",
   "id": "3a12528a",
   "metadata": {},
   "source": [
    "<a id=\"3\"> <h1> Concatenating and Merging PDF Files With pypdf </h1> </a>\n",
    "\n",
    "* n you concatenate two or more PDF files, you join the files one after another into a single document.\n",
    "* Merging two PDF files also joins them into a single file, but instead of attaching the second PDF to the end of the first, merging inserts the file after a specific page in the first PDF. Then it pushes all of the first PDF’s pages after the insertion point to the end of the second PDF.\n",
    "\n"
   ]
  },
  {
   "cell_type": "markdown",
   "id": "a7c540d3",
   "metadata": {},
   "source": [
    "There are a couple of ways to add pages to a PdfMerger object, and you’ll choose one based on what you need to accomplish:\n",
    "\n",
    "* append() concatenates every page in an existing PDF document to the end of the pages currently in PdfMerger.\n",
    "* merge() inserts all of the pages in an existing PDF document after a specific page in PdfMerger."
   ]
  },
  {
   "cell_type": "code",
   "execution_count": null,
   "id": "2368643d",
   "metadata": {},
   "outputs": [],
   "source": [
    "from pypdf import PdfMerger\n",
    "from pathlib import Path"
   ]
  },
  {
   "cell_type": "code",
   "execution_count": null,
   "id": "6d6cd304",
   "metadata": {},
   "outputs": [],
   "source": [
    "pdf_merger=PdfMerger()"
   ]
  },
  {
   "cell_type": "code",
   "execution_count": null,
   "id": "4fca2789",
   "metadata": {},
   "outputs": [],
   "source": [
    "#Concatenating PDFs With .append()\n",
    "reports_dir=Path(\"C:/Users/hp/anaconda3/materials-creating-and-modifying-pdfs/practice_files/expense_reports\")"
   ]
  },
  {
   "cell_type": "markdown",
   "id": "9e5119a5",
   "metadata": {},
   "source": [
    "Once you have the path to the expense_reports/ directory assigned to the reports_dir variable, \n",
    "\n",
    "you can use .glob() to get an iterable of paths to PDF files in the directory."
   ]
  },
  {
   "cell_type": "code",
   "execution_count": null,
   "id": "f95932fa",
   "metadata": {},
   "outputs": [],
   "source": [
    "for file in reports_dir.glob(\"*.pdf\"):\n",
    "    print(file.name)"
   ]
  },
  {
   "cell_type": "markdown",
   "id": "09438231",
   "metadata": {},
   "source": [
    "In general, the order of paths that .glob() returns isn’t guaranteed, \n",
    "\n",
    "so you’ll need to order them yourself. You can do this by creating a list using the built-in .sorted() function:"
   ]
  },
  {
   "cell_type": "code",
   "execution_count": null,
   "id": "3b32630e",
   "metadata": {},
   "outputs": [],
   "source": [
    "expense_reports=sorted(reports_dir.glob(\"*.pdf\"))"
   ]
  },
  {
   "cell_type": "code",
   "execution_count": null,
   "id": "c4c2887e",
   "metadata": {},
   "outputs": [],
   "source": [
    "pdf_merged=PdfMerger()"
   ]
  },
  {
   "cell_type": "code",
   "execution_count": null,
   "id": "893563d8",
   "metadata": {},
   "outputs": [],
   "source": [
    "for file in expense_reports:\n",
    "    pdf_merged.append(file)\n",
    "    \n",
    "print(pdf_merged)"
   ]
  },
  {
   "cell_type": "code",
   "execution_count": null,
   "id": "88505d63",
   "metadata": {},
   "outputs": [],
   "source": [
    "pdf_merged.write(\"C:/Users/hp/anaconda3/materials-creating-and-modifying-pdfs/practice_files/expense_reports_merged.pdf\")"
   ]
  },
  {
   "cell_type": "markdown",
   "id": "3ab47add",
   "metadata": {},
   "source": [
    "Merging PDFs With .merge()"
   ]
  },
  {
   "cell_type": "code",
   "execution_count": null,
   "id": "27ae654c",
   "metadata": {},
   "outputs": [],
   "source": [
    "path_report=Path(\"C:/Users/hp/anaconda3/materials-creating-and-modifying-pdfs/practice_files/quarterly_report/report.pdf\")\n",
    "path_toc=Path(\"C:/Users/hp/anaconda3/materials-creating-and-modifying-pdfs/practice_files/quarterly_report/toc.pdf\")"
   ]
  },
  {
   "cell_type": "code",
   "execution_count": null,
   "id": "d65ee3f2",
   "metadata": {},
   "outputs": [],
   "source": [
    "pdf_merger=PdfMerger()"
   ]
  },
  {
   "cell_type": "code",
   "execution_count": null,
   "id": "0fd297cd",
   "metadata": {},
   "outputs": [],
   "source": [
    "pdf_merger.append(path_report)"
   ]
  },
  {
   "cell_type": "code",
   "execution_count": null,
   "id": "84826c1f",
   "metadata": {},
   "outputs": [],
   "source": [
    "pdf_merger.merge(1,path_toc)"
   ]
  },
  {
   "cell_type": "code",
   "execution_count": null,
   "id": "cd087cec",
   "metadata": {},
   "outputs": [],
   "source": [
    "pdf_merger.write(\"C:/Users/hp/anaconda3/materials-creating-and-modifying-pdfs/practice_files/quarterly_report/merged_report.pdf\")"
   ]
  },
  {
   "cell_type": "markdown",
   "id": "80927e91",
   "metadata": {},
   "source": [
    "<a id=\"4\"> <h1> Rotating and Cropping PDF Pages With pypdf </h1> <a>\n",
    "    \n",
    "    * A 0 rotation value means that the page is normally oriented. \n",
    "    * So, the .rotation attribute allows you to check the current rotation of the pages in ugly.pdf and then rotate any pages that don’t have a rotation of 0."
   ]
  },
  {
   "cell_type": "code",
   "execution_count": null,
   "id": "9415f031",
   "metadata": {},
   "outputs": [],
   "source": [
    "pdf_path=Path(\"C:/Users/hp/anaconda3/materials-creating-and-modifying-pdfs/practice_files/ugly.pdf\")"
   ]
  },
  {
   "cell_type": "code",
   "execution_count": null,
   "id": "c27b5938",
   "metadata": {},
   "outputs": [],
   "source": [
    "pdf_reader=PdfReader(pdf_path)\n",
    "pdf_writer=PdfWriter()"
   ]
  },
  {
   "cell_type": "code",
   "execution_count": null,
   "id": "d577b96a",
   "metadata": {},
   "outputs": [],
   "source": [
    "for page in pdf_reader.pages:\n",
    "    if page.rotation !=0:\n",
    "        page.rotate(-page.rotation)\n",
    "    pdf_writer.add_page(page)"
   ]
  },
  {
   "cell_type": "code",
   "execution_count": null,
   "id": "a37b16df",
   "metadata": {},
   "outputs": [],
   "source": [
    "pdf_writer.write(\"C:/Users/hp/anaconda3/materials-creating-and-modifying-pdfs/practice_files/rotated.pdf\")"
   ]
  },
  {
   "cell_type": "markdown",
   "id": "a7e2fa02",
   "metadata": {},
   "source": [
    "Cropping Pages With RectangleObject"
   ]
  },
  {
   "cell_type": "markdown",
   "id": "78a45a23",
   "metadata": {},
   "source": [
    "To crop the page, you first need to know a little bit more about how pages are structured.\n",
    "\n",
    "PageObject instances like first_page have a .mediabox attribute that represents a rectangular area defining the boundaries of the page."
   ]
  },
  {
   "cell_type": "markdown",
   "id": "b65d0269",
   "metadata": {},
   "source": [
    "<a id=\"5\"> <h1> Encrypting and Decrypting PDF Files With pypdf </h1> </a>"
   ]
  },
  {
   "cell_type": "markdown",
   "id": "a4f5cb57",
   "metadata": {},
   "source": [
    "You can add password protection to a PDF file using the .encrypt() method of a PdfWriter instance. It has two main parameters:\n",
    "\n",
    "user_password sets the user password. This argument allows for opening and reading the encrypted PDF file.\n",
    "owner_password sets the owner password. This argument allows for opening and editing the PDF without any restrictions."
   ]
  },
  {
   "cell_type": "code",
   "execution_count": null,
   "id": "d57f16e5",
   "metadata": {},
   "outputs": [],
   "source": [
    "\n",
    ">>> pdf_writer.write(\"C:/Users/hp/anaconda3/materials-creating-and-modifying-pdfs/practice_files/newsletter_protected.pdf\")"
   ]
  },
  {
   "cell_type": "code",
   "execution_count": null,
   "id": "691f36b2",
   "metadata": {},
   "outputs": [],
   "source": [
    ">>> user_pwd = \"SuperSecret\"\n",
    ">>> owner_pwd = \"ReallySuperSecret\"\n",
    ">>> pdf_writer.encrypt(user_password=user_pwd, owner_password=owner_pwd)"
   ]
  },
  {
   "cell_type": "code",
   "execution_count": null,
   "id": "427ca097",
   "metadata": {},
   "outputs": [],
   "source": [
    ">>> output_path = Path(\"C:/Users/hp/anaconda3/materials-creating-and-modifying-pdfs/practice_files/newsletter_protected.pdf\")\n",
    ">>> pdf_writer.write(\"C:/Users/hp/anaconda3/materials-creating-and-modifying-pdfs/practice_files/newsletter_protected.pdf\")"
   ]
  },
  {
   "cell_type": "code",
   "execution_count": null,
   "id": "7884056b",
   "metadata": {},
   "outputs": [],
   "source": [
    ">>> from pathlib import Path\n",
    ">>> from pypdf import PdfReader, PdfWriter\n",
    ">>> pdf_path = Path(\"C:/Users/hp/anaconda3/materials-creating-and-modifying-pdfs/practice_files/newsletter_protected.pdf\")\n",
    ">>> pdf_reader = PdfReader(pdf_path)"
   ]
  },
  {
   "cell_type": "code",
   "execution_count": null,
   "id": "828e17a5",
   "metadata": {},
   "outputs": [],
   "source": [
    "pdf_reader.pages[0]"
   ]
  },
  {
   "cell_type": "code",
   "execution_count": null,
   "id": "600b9529",
   "metadata": {},
   "outputs": [],
   "source": [
    ">>> pdf_reader.decrypt(password=\"SuperSecret\")\n"
   ]
  },
  {
   "cell_type": "code",
   "execution_count": null,
   "id": "c4506aaa",
   "metadata": {},
   "outputs": [],
   "source": [
    "pdf_reader.pages[0]"
   ]
  },
  {
   "cell_type": "code",
   "execution_count": null,
   "id": "e8ff4db7",
   "metadata": {},
   "outputs": [],
   "source": [
    ">>> pdf_writer.write(\"C:/Users/hp/anaconda3/materials-creating-and-modifying-pdfs/practice_files/newsletter_protected.pdf\")"
   ]
  },
  {
   "cell_type": "code",
   "execution_count": null,
   "id": "bd39d590",
   "metadata": {},
   "outputs": [],
   "source": []
  }
 ],
 "metadata": {
  "hide_input": false,
  "kernelspec": {
   "display_name": "Python 3 (ipykernel)",
   "language": "python",
   "name": "python3"
  },
  "language_info": {
   "codemirror_mode": {
    "name": "ipython",
    "version": 3
   },
   "file_extension": ".py",
   "mimetype": "text/x-python",
   "name": "python",
   "nbconvert_exporter": "python",
   "pygments_lexer": "ipython3",
   "version": "3.8.3"
  },
  "toc": {
   "base_numbering": 1,
   "nav_menu": {},
   "number_sections": true,
   "sideBar": true,
   "skip_h1_title": false,
   "title_cell": "Table of Contents",
   "title_sidebar": "Contents",
   "toc_cell": false,
   "toc_position": {},
   "toc_section_display": true,
   "toc_window_display": false
  },
  "varInspector": {
   "cols": {
    "lenName": 16,
    "lenType": 16,
    "lenVar": 40
   },
   "kernels_config": {
    "python": {
     "delete_cmd_postfix": "",
     "delete_cmd_prefix": "del ",
     "library": "var_list.py",
     "varRefreshCmd": "print(var_dic_list())"
    },
    "r": {
     "delete_cmd_postfix": ") ",
     "delete_cmd_prefix": "rm(",
     "library": "var_list.r",
     "varRefreshCmd": "cat(var_dic_list()) "
    }
   },
   "types_to_exclude": [
    "module",
    "function",
    "builtin_function_or_method",
    "instance",
    "_Feature"
   ],
   "window_display": false
  }
 },
 "nbformat": 4,
 "nbformat_minor": 5
}
