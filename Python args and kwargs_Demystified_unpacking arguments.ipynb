{
 "cells": [
  {
   "cell_type": "markdown",
   "id": "3270ef41",
   "metadata": {},
   "source": [
    "*  [1. Passing Multiple Arguments to a Function](#1)\n",
    "*  [2. Using the Python args Variable in Function Definitions](#2)\n",
    "*  [4. Ordering Arguments in a Function](#3)\n",
    "*  [5. Unpacking With the Asterisk Operators: * & **](#4)\n",
    "*  [6. Conclusion](#5)"
   ]
  },
  {
   "cell_type": "markdown",
   "id": "111a65d5",
   "metadata": {},
   "source": [
    "<a id=\"1\"> <h1 >1. Passing Multiple Arguments to a Function </h1></a>"
   ]
  },
  {
   "cell_type": "code",
   "execution_count": 3,
   "id": "61d6e458",
   "metadata": {},
   "outputs": [
    {
     "name": "stdout",
     "output_type": "stream",
     "text": [
      "6\n"
     ]
    }
   ],
   "source": [
    "#1\n",
    "# sum_integers_list.py\n",
    "def my_sum(my_integers):\n",
    "    result = 0\n",
    "    for x in my_integers:\n",
    "        result += x\n",
    "    return result\n",
    "\n",
    "list_of_integers = [1, 2, 3]\n",
    "print(my_sum(list_of_integers))"
   ]
  },
  {
   "cell_type": "code",
   "execution_count": 4,
   "id": "d8ba659f",
   "metadata": {},
   "outputs": [
    {
     "name": "stdout",
     "output_type": "stream",
     "text": [
      "6\n"
     ]
    }
   ],
   "source": [
    "# using the *arg function,single astrisk( unfolding function)\n",
    "def my_sum(*my_integers):\n",
    "    result = 0\n",
    "    for x in my_integers:\n",
    "        result += x\n",
    "    return result\n",
    "\n",
    "\n",
    "print(my_sum(1,2,3))"
   ]
  },
  {
   "cell_type": "code",
   "execution_count": 5,
   "id": "fb027379",
   "metadata": {},
   "outputs": [
    {
     "name": "stdout",
     "output_type": "stream",
     "text": [
      "[9, 2, 3]\n"
     ]
    }
   ],
   "source": [
    "# change_list.py\n",
    "my_list = [1, 2, 3]\n",
    "my_list[0] = 9\n",
    "print(my_list)"
   ]
  },
  {
   "cell_type": "code",
   "execution_count": 6,
   "id": "91772070",
   "metadata": {},
   "outputs": [
    {
     "name": "stdout",
     "output_type": "stream",
     "text": [
      "9 2 3\n"
     ]
    }
   ],
   "source": [
    "# change_list.py\n",
    "my_list = [1, 2, 3]\n",
    "my_list[0] = 9\n",
    "print(*my_list)"
   ]
  },
  {
   "cell_type": "markdown",
   "id": "1e088bc8",
   "metadata": {},
   "source": [
    "<a id=\"2\"> <h1 >2. Using the Python kwargs Variable in Function Definitions </h1></a>"
   ]
  },
  {
   "cell_type": "code",
   "execution_count": 7,
   "id": "1d37591a",
   "metadata": {},
   "outputs": [
    {
     "name": "stdout",
     "output_type": "stream",
     "text": [
      "RealPythonIsGreat!\n"
     ]
    }
   ],
   "source": [
    "#**kwargs works just like *args, but instead of accepting positional arguments it accepts keyword (or named) arguments. \n",
    "# It works on dictionaries\n",
    "# concatenate.py\n",
    "def concatenate(**kwargs):\n",
    "    result = \"\"\n",
    "    # Iterating over the Python kwargs dictionary\n",
    "    for arg in kwargs.values():\n",
    "        result += arg\n",
    "    return result\n",
    "\n",
    "print(concatenate(a=\"Real\", b=\"Python\", c=\"Is\", d=\"Great\", e=\"!\"))"
   ]
  },
  {
   "cell_type": "code",
   "execution_count": 10,
   "id": "ff28380b",
   "metadata": {},
   "outputs": [
    {
     "name": "stdout",
     "output_type": "stream",
     "text": [
      "abcde\n"
     ]
    }
   ],
   "source": [
    "def concatenate(**kwargs):\n",
    "    result=\"\"\n",
    "    for arg in kwargs:\n",
    "        result +=arg\n",
    "    return result\n",
    "dic={1:\"anu\",2:\"money\",3:\"brother\"}\n",
    "print(concatenate(a=\"Real\", b=\"Python\", c=\"Is\", d=\"Great\", e=\"!\"))"
   ]
  },
  {
   "cell_type": "markdown",
   "id": "049b1fa4",
   "metadata": {},
   "source": [
    "<a id=\"3\"> <h1> 3. Ordering Arguments in a Function </h1> </a>\n"
   ]
  },
  {
   "cell_type": "markdown",
   "id": "a5259b38",
   "metadata": {},
   "source": [
    "To recap, the correct order for your parameters is:\n",
    "\n",
    "* Standard arguments\n",
    "\n",
    " * *args arguments\n",
    " * **kwargs arguments"
   ]
  },
  {
   "cell_type": "code",
   "execution_count": 11,
   "id": "360584b4",
   "metadata": {},
   "outputs": [],
   "source": [
    "# correct_function_definition.py\n",
    "def my_function(a, b, *args, **kwargs):\n",
    "    pass"
   ]
  },
  {
   "cell_type": "markdown",
   "id": "abf39e15",
   "metadata": {},
   "source": [
    "<a id=\"4\"> <h1> 4.Unpacking With the Asterisk Operators: * & ** </h1> </a>"
   ]
  },
  {
   "cell_type": "markdown",
   "id": "4870cf64",
   "metadata": {},
   "source": [
    "Here, the * operator tells print() to unpack the list first."
   ]
  },
  {
   "cell_type": "code",
   "execution_count": 13,
   "id": "81db62db",
   "metadata": {},
   "outputs": [
    {
     "name": "stdout",
     "output_type": "stream",
     "text": [
      "[1, 2, 3]\n",
      "1 2 3\n"
     ]
    }
   ],
   "source": [
    "mylist=[1,2,3]\n",
    "print(mylist)\n",
    "print(*mylist)\n"
   ]
  },
  {
   "cell_type": "code",
   "execution_count": 14,
   "id": "e6737573",
   "metadata": {},
   "outputs": [
    {
     "name": "stdout",
     "output_type": "stream",
     "text": [
      "(1, 2, 3)\n",
      "1 2 3\n"
     ]
    }
   ],
   "source": [
    "mytup=(1,2,3)\n",
    "print(mytup)\n",
    "print(*mytup)"
   ]
  },
  {
   "cell_type": "code",
   "execution_count": 15,
   "id": "3e1d8bc0",
   "metadata": {},
   "outputs": [
    {
     "name": "stdout",
     "output_type": "stream",
     "text": [
      "6\n"
     ]
    }
   ],
   "source": [
    "# unpacking_call.py\n",
    "def my_sum(a, b, c):\n",
    "    print(a + b + c)\n",
    "\n",
    "my_list = [1, 2, 3]\n",
    "my_sum(*my_list)"
   ]
  },
  {
   "cell_type": "code",
   "execution_count": 18,
   "id": "bc88650f",
   "metadata": {},
   "outputs": [
    {
     "name": "stdout",
     "output_type": "stream",
     "text": [
      "6\n"
     ]
    }
   ],
   "source": [
    "# unpacking_call.py\n",
    "def my_sum(*a):\n",
    "    print(sum(a))\n",
    "\n",
    "my_list = [1, 2, 3]\n",
    "my_sum(*my_list)"
   ]
  },
  {
   "cell_type": "code",
   "execution_count": 19,
   "id": "008cb084",
   "metadata": {},
   "outputs": [
    {
     "name": "stdout",
     "output_type": "stream",
     "text": [
      "15\n"
     ]
    }
   ],
   "source": [
    "# unpacking_call.py\n",
    "def my_sum(*a):\n",
    "    print(sum(a))\n",
    "\n",
    "my_list = [1, 2, 3]\n",
    "my_list2=[4,5]\n",
    "my_sum(*my_list,*my_list2)"
   ]
  },
  {
   "cell_type": "markdown",
   "id": "b9ec83af",
   "metadata": {},
   "source": [
    "you need to split a list into three different parts."
   ]
  },
  {
   "cell_type": "code",
   "execution_count": 21,
   "id": "ed6118a0",
   "metadata": {},
   "outputs": [
    {
     "name": "stdout",
     "output_type": "stream",
     "text": [
      "[2, 5]\n"
     ]
    }
   ],
   "source": [
    "my_list = [1, 2,5, 3]\n",
    "a,*b,c=my_list\n",
    "print(b)"
   ]
  },
  {
   "cell_type": "markdown",
   "id": "354cbb13",
   "metadata": {},
   "source": [
    " merge two lists"
   ]
  },
  {
   "cell_type": "code",
   "execution_count": 23,
   "id": "50621e93",
   "metadata": {},
   "outputs": [
    {
     "data": {
      "text/plain": [
       "[1, 2, 5, 3, 4, 5]"
      ]
     },
     "execution_count": 23,
     "metadata": {},
     "output_type": "execute_result"
    }
   ],
   "source": [
    "merged_list=[*my_list,*my_list2]\n",
    "merged_list"
   ]
  },
  {
   "cell_type": "markdown",
   "id": "832725e7",
   "metadata": {},
   "source": [
    "You can even merge two different dictionaries by using the unpacking operator **:"
   ]
  },
  {
   "cell_type": "code",
   "execution_count": 25,
   "id": "28875efd",
   "metadata": {},
   "outputs": [
    {
     "data": {
      "text/plain": [
       "{97: 'a', 98: 'b', 65: 'A', 66: 'B'}"
      ]
     },
     "execution_count": 25,
     "metadata": {},
     "output_type": "execute_result"
    }
   ],
   "source": [
    "dic1={97:\"a\",98:\"b\"}\n",
    "dic2={65:'A',66:'B'}\n",
    "dic={**dic1,**dic2}\n",
    "dic"
   ]
  },
  {
   "cell_type": "code",
   "execution_count": 26,
   "id": "736c9652",
   "metadata": {},
   "outputs": [
    {
     "name": "stdout",
     "output_type": "stream",
     "text": [
      "['R', 'e', 'a', 'l', 'P', 'y', 't', 'h', 'o', 'n']\n"
     ]
    }
   ],
   "source": [
    "# string_to_list.py\n",
    "a = [*\"RealPython\"]\n",
    "print(a)"
   ]
  },
  {
   "cell_type": "code",
   "execution_count": 28,
   "id": "9c12dfdd",
   "metadata": {},
   "outputs": [
    {
     "name": "stdout",
     "output_type": "stream",
     "text": [
      "a n u\n"
     ]
    }
   ],
   "source": [
    "print(*\"anu\")"
   ]
  },
  {
   "cell_type": "code",
   "execution_count": 31,
   "id": "dd6e9723",
   "metadata": {},
   "outputs": [
    {
     "ename": "SyntaxError",
     "evalue": "can't use starred expression here (3717868808.py, line 3)",
     "output_type": "error",
     "traceback": [
      "\u001b[1;36m  Input \u001b[1;32mIn [31]\u001b[1;36m\u001b[0m\n\u001b[1;33m    a = (*\"RealPython\")\u001b[0m\n\u001b[1;37m         ^\u001b[0m\n\u001b[1;31mSyntaxError\u001b[0m\u001b[1;31m:\u001b[0m can't use starred expression here\n"
     ]
    }
   ],
   "source": [
    "# string_to_tuple.py\n",
    "#not possible\n",
    "a = (*\"RealPython\")\n",
    "print(a)"
   ]
  },
  {
   "cell_type": "markdown",
   "id": "67b0eab5",
   "metadata": {},
   "source": [
    "<a id=\"5\"> <h1> 5. Conclusion </h1> </a>"
   ]
  },
  {
   "cell_type": "markdown",
   "id": "2f649f18",
   "metadata": {},
   "source": [
    "* What *args and **kwargs actually mean\n",
    "* How to use *args and **kwargs in function definitions\n",
    "* How to use a single asterisk (*) to unpack iterables\n",
    "* How to use two asterisks (**) to unpack dictionaries"
   ]
  },
  {
   "cell_type": "code",
   "execution_count": null,
   "id": "4a147ce5",
   "metadata": {},
   "outputs": [],
   "source": []
  }
 ],
 "metadata": {
  "kernelspec": {
   "display_name": "Python 3 (ipykernel)",
   "language": "python",
   "name": "python3"
  },
  "language_info": {
   "codemirror_mode": {
    "name": "ipython",
    "version": 3
   },
   "file_extension": ".py",
   "mimetype": "text/x-python",
   "name": "python",
   "nbconvert_exporter": "python",
   "pygments_lexer": "ipython3",
   "version": "3.9.12"
  }
 },
 "nbformat": 4,
 "nbformat_minor": 5
}
