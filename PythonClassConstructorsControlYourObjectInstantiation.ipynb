{
 "cells": [
  {
   "cell_type": "markdown",
   "id": "b50ae387",
   "metadata": {},
   "source": [
    "## Python’s Class Constructors and the Instantiation Process"
   ]
  },
  {
   "cell_type": "markdown",
   "id": "8860da1f",
   "metadata": {},
   "source": [
    "Class constructors internally trigger Python’s instantiation process, which runs through two main steps: instance creation and instance initialization.\n",
    "About the Notebook:\n",
    "\n",
    "* How Python’s instantiation process works internally\n",
    "* How your own .__init__() methods help you customize object initialization\n",
    "* How overriding the .__new__() method allows for custom object creation"
   ]
  },
  {
   "cell_type": "markdown",
   "id": "ab2334d5",
   "metadata": {},
   "source": [
    "In this tutorial, you’ll:\n",
    "\n",
    "Understand Python’s internal instantiation process\n",
    "* [ 1. Create a new instance](#1)\n",
    "* [ 2. Initialising A class by calling B class](#2)\n",
    "* [3. __new__ function is not required, this runs by default when __init__ function is called](#3)\n",
    "* [4. Inheritance](#4)\n",
    "* [5. Building Flexible Object Initializers](#5)\n",
    "* [6. Object Creation With .__new__()](#6)\n",
    "\n",
    "Customize object initialization using .__init__()\n",
    "\n",
    "Fine-tune object creation by overriding .__new__()"
   ]
  },
  {
   "cell_type": "markdown",
   "id": "dd9289f7",
   "metadata": {},
   "source": [
    "<a id=\"1\"> <h1> Create a new instance </h1> </a>\n"
   ]
  },
  {
   "cell_type": "markdown",
   "id": "f508db99",
   "metadata": {},
   "source": [
    "To run the first step, Python classes have a special method called .__new__(), which is responsible for creating and returning a new empty object. Then another special method, .__init__(), takes the resulting object, along with the class constructor’s arguments."
   ]
  },
  {
   "cell_type": "code",
   "execution_count": 30,
   "id": "84e7fbdc",
   "metadata": {},
   "outputs": [],
   "source": [
    "# instance creator, .__new__(),\n",
    "# instance initializer, .__init__(),\n",
    "# the .__repr__() special method, which provides a proper string representation for your Point class.\n",
    "class Point:\n",
    "\n",
    "    def __new__(cls, *args, **kwargs):\n",
    "        print(\"1. Create a new instance of Point.\")\n",
    "        return super().__new__(cls)\n",
    "\n",
    "    def __init__(self, x, y):\n",
    "        print(\"2. Initialize the new instance of Point.\")\n",
    "        self.x = x\n",
    "        self.y = y\n",
    "\n",
    "    def __repr__(self) -> str:\n",
    "        return f\"{type(self).__name__}(x={self.x}, y={self.y})\""
   ]
  },
  {
   "cell_type": "code",
   "execution_count": 29,
   "id": "25d33a65",
   "metadata": {},
   "outputs": [
    {
     "name": "stdout",
     "output_type": "stream",
     "text": [
      "Requirement already satisfied: autopep8 in c:\\users\\hp\\anaconda3\\lib\\site-packages (1.5.3)\n",
      "Requirement already satisfied: pycodestyle>=2.6.0 in c:\\users\\hp\\anaconda3\\lib\\site-packages (from autopep8) (2.6.0)\n",
      "Requirement already satisfied: toml in c:\\users\\hp\\anaconda3\\lib\\site-packages (from autopep8) (0.10.2)\n",
      "Note: you may need to restart the kernel to use updated packages.\n"
     ]
    }
   ],
   "source": [
    "pip install autopep8"
   ]
  },
  {
   "cell_type": "code",
   "execution_count": 27,
   "id": "edc56c59",
   "metadata": {},
   "outputs": [
    {
     "name": "stdout",
     "output_type": "stream",
     "text": [
      "1. Create a new instance of Point.\n",
      "2. Initialize the new instance of Point.\n"
     ]
    },
    {
     "data": {
      "text/plain": [
       "Point(x=1, y=2)"
      ]
     },
     "execution_count": 27,
     "metadata": {},
     "output_type": "execute_result"
    }
   ],
   "source": [
    "Point(1,2) #calling the class, it calls new and create an object and pass to __init__ which takes the argument\n",
    "#and initialise the instance/object"
   ]
  },
  {
   "cell_type": "code",
   "execution_count": 15,
   "id": "b203a60a",
   "metadata": {},
   "outputs": [
    {
     "data": {
      "text/plain": [
       "type"
      ]
     },
     "execution_count": 15,
     "metadata": {},
     "output_type": "execute_result"
    }
   ],
   "source": [
    "type(Point)"
   ]
  },
  {
   "cell_type": "markdown",
   "id": "dabda70d",
   "metadata": {},
   "source": [
    "<a id=\"2\"> <h1>  initialising A class by calling B class\n",
    "\n",
    "     the .__repr__() special method, which provides a proper string representation for your Point class.\n",
    "    \n",
    "</h1> </a>"
   ]
  },
  {
   "cell_type": "code",
   "execution_count": 23,
   "id": "a71c2bf0",
   "metadata": {},
   "outputs": [],
   "source": [
    "class A:\n",
    "    def __init__(self, a_value):\n",
    "        print(\"Initialize the new instance of A.\")\n",
    "        self.a_value = a_value\n",
    "\n",
    "class B:\n",
    "    def __new__(cls, *args, **kwargs):\n",
    "        return A(42)\n",
    "\n",
    "    def __init__(self, b_value):\n",
    "        print(\"Initialize the new instance of B.\")\n",
    "        self.b_value = b_value"
   ]
  },
  {
   "cell_type": "code",
   "execution_count": 25,
   "id": "4c068d90",
   "metadata": {},
   "outputs": [
    {
     "name": "stdout",
     "output_type": "stream",
     "text": [
      "Initialize the new instance of A.\n"
     ]
    },
    {
     "data": {
      "text/plain": [
       "<__main__.A at 0x24f9732f5b0>"
      ]
     },
     "execution_count": 25,
     "metadata": {},
     "output_type": "execute_result"
    }
   ],
   "source": [
    "B()"
   ]
  },
  {
   "cell_type": "markdown",
   "id": "2693227b",
   "metadata": {},
   "source": [
    "Additionally, keep in mind that .__init__() must not explicitly return anything different from None, or you’ll get a TypeError exception:"
   ]
  },
  {
   "cell_type": "markdown",
   "id": "f2c1e8c8",
   "metadata": {},
   "source": [
    "<a id=\"4\"> <h1> Inheritance </h1> </a> "
   ]
  },
  {
   "cell_type": "markdown",
   "id": "a46cf550",
   "metadata": {},
   "source": [
    "If your subclasses provide a .__init__() method, then this method must explicitly call the base class’s .__init__() method with appropriate arguments to ensure the correct initialization of instances. To do this, you should use the built-in super() function like in the following example:\n",
    "\n"
   ]
  },
  {
   "cell_type": "code",
   "execution_count": 35,
   "id": "73f49e83",
   "metadata": {},
   "outputs": [],
   "source": [
    "class A:\n",
    "    def __init__(self,department):\n",
    "        self.department= department\n",
    "        \n",
    "class B(A):\n",
    "    def __init__(self,department,name,age):\n",
    "        super().__init__(department)\n",
    "        self.name=name\n",
    "        self.age=age\n",
    "    \n",
    "Anu=B(\"product\",\"Anu\",\"30\")\n",
    "         \n",
    "        "
   ]
  },
  {
   "cell_type": "code",
   "execution_count": 36,
   "id": "cf51799e",
   "metadata": {},
   "outputs": [
    {
     "data": {
      "text/plain": [
       "'Anu'"
      ]
     },
     "execution_count": 36,
     "metadata": {},
     "output_type": "execute_result"
    }
   ],
   "source": [
    "Anu.name"
   ]
  },
  {
   "cell_type": "code",
   "execution_count": 38,
   "id": "238657ac",
   "metadata": {},
   "outputs": [
    {
     "data": {
      "text/plain": [
       "'product'"
      ]
     },
     "execution_count": 38,
     "metadata": {},
     "output_type": "execute_result"
    }
   ],
   "source": [
    "Anu.department"
   ]
  },
  {
   "cell_type": "code",
   "execution_count": null,
   "id": "71b72221",
   "metadata": {},
   "outputs": [],
   "source": [
    "class Greeter:\n",
    "    def __init__(self, name, formal=False):\n",
    "        self.name = name\n",
    "        self.formal = formal\n",
    "\n",
    "    def greet(self):\n",
    "        if self.formal:\n",
    "            print(f\"Good morning, {self.name}!\")\n",
    "        else:\n",
    "            print(f\"Hello, {self.name}!\")"
   ]
  },
  {
   "cell_type": "markdown",
   "id": "76ddb317",
   "metadata": {},
   "source": [
    "<a id=\"5\"> <h1> Building Flexible Object Initializers\n",
    "    \n",
    "optional arguments. This technique allows you to write classes in which the constructor accepts different sets of input arguments at instantiation time. Which arguments to use at a given time will depend on your specific needs and context.\n",
    "    \n",
    "</h1>\n",
    "    </a>"
   ]
  },
  {
   "cell_type": "code",
   "execution_count": 1,
   "id": "f02a6be4",
   "metadata": {},
   "outputs": [
    {
     "ename": "NameError",
     "evalue": "name 'null' is not defined",
     "output_type": "error",
     "traceback": [
      "\u001b[1;31m---------------------------------------------------------------------------\u001b[0m",
      "\u001b[1;31mNameError\u001b[0m                                 Traceback (most recent call last)",
      "Cell \u001b[1;32mIn[1], line 1\u001b[0m\n\u001b[1;32m----> 1\u001b[0m \u001b[38;5;28;01mfrom\u001b[39;00m \u001b[38;5;21;01mgreet\u001b[39;00m \u001b[38;5;28;01mimport\u001b[39;00m Greeter\n",
      "File \u001b[1;32m~\\greet.py:26\u001b[0m\n\u001b[0;32m      1\u001b[0m {\n\u001b[0;32m      2\u001b[0m  \u001b[38;5;124m\"\u001b[39m\u001b[38;5;124mcells\u001b[39m\u001b[38;5;124m\"\u001b[39m: [\n\u001b[0;32m      3\u001b[0m   {\n\u001b[0;32m      4\u001b[0m    \u001b[38;5;124m\"\u001b[39m\u001b[38;5;124mcell_type\u001b[39m\u001b[38;5;124m\"\u001b[39m: \u001b[38;5;124m\"\u001b[39m\u001b[38;5;124mcode\u001b[39m\u001b[38;5;124m\"\u001b[39m,\n\u001b[0;32m      5\u001b[0m    \u001b[38;5;124m\"\u001b[39m\u001b[38;5;124mexecution_count\u001b[39m\u001b[38;5;124m\"\u001b[39m: \u001b[38;5;241m2\u001b[39m,\n\u001b[0;32m      6\u001b[0m    \u001b[38;5;124m\"\u001b[39m\u001b[38;5;124mid\u001b[39m\u001b[38;5;124m\"\u001b[39m: \u001b[38;5;124m\"\u001b[39m\u001b[38;5;124m09d28d0d\u001b[39m\u001b[38;5;124m\"\u001b[39m,\n\u001b[0;32m      7\u001b[0m    \u001b[38;5;124m\"\u001b[39m\u001b[38;5;124mmetadata\u001b[39m\u001b[38;5;124m\"\u001b[39m: {},\n\u001b[0;32m      8\u001b[0m    \u001b[38;5;124m\"\u001b[39m\u001b[38;5;124moutputs\u001b[39m\u001b[38;5;124m\"\u001b[39m: [],\n\u001b[0;32m      9\u001b[0m    \u001b[38;5;124m\"\u001b[39m\u001b[38;5;124msource\u001b[39m\u001b[38;5;124m\"\u001b[39m: [\n\u001b[0;32m     10\u001b[0m     \u001b[38;5;124m\"\u001b[39m\u001b[38;5;124m# greet.py\u001b[39m\u001b[38;5;130;01m\\n\u001b[39;00m\u001b[38;5;124m\"\u001b[39m,\n\u001b[0;32m     11\u001b[0m     \u001b[38;5;124m\"\u001b[39m\u001b[38;5;130;01m\\n\u001b[39;00m\u001b[38;5;124m\"\u001b[39m,\n\u001b[0;32m     12\u001b[0m     \u001b[38;5;124m\"\u001b[39m\u001b[38;5;124mclass Greeter:\u001b[39m\u001b[38;5;130;01m\\n\u001b[39;00m\u001b[38;5;124m\"\u001b[39m,\n\u001b[0;32m     13\u001b[0m     \u001b[38;5;124m\"\u001b[39m\u001b[38;5;124m    def __init__(self, name, formal=False):\u001b[39m\u001b[38;5;130;01m\\n\u001b[39;00m\u001b[38;5;124m\"\u001b[39m,\n\u001b[0;32m     14\u001b[0m     \u001b[38;5;124m\"\u001b[39m\u001b[38;5;124m        self.name = name\u001b[39m\u001b[38;5;130;01m\\n\u001b[39;00m\u001b[38;5;124m\"\u001b[39m,\n\u001b[0;32m     15\u001b[0m     \u001b[38;5;124m\"\u001b[39m\u001b[38;5;124m        self.formal = formal\u001b[39m\u001b[38;5;130;01m\\n\u001b[39;00m\u001b[38;5;124m\"\u001b[39m,\n\u001b[0;32m     16\u001b[0m     \u001b[38;5;124m\"\u001b[39m\u001b[38;5;130;01m\\n\u001b[39;00m\u001b[38;5;124m\"\u001b[39m,\n\u001b[0;32m     17\u001b[0m     \u001b[38;5;124m\"\u001b[39m\u001b[38;5;124m    def greet(self):\u001b[39m\u001b[38;5;130;01m\\n\u001b[39;00m\u001b[38;5;124m\"\u001b[39m,\n\u001b[0;32m     18\u001b[0m     \u001b[38;5;124m\"\u001b[39m\u001b[38;5;124m        if self.formal:\u001b[39m\u001b[38;5;130;01m\\n\u001b[39;00m\u001b[38;5;124m\"\u001b[39m,\n\u001b[0;32m     19\u001b[0m     \u001b[38;5;124m\"\u001b[39m\u001b[38;5;124m            print(f\u001b[39m\u001b[38;5;130;01m\\\"\u001b[39;00m\u001b[38;5;124mGood morning, \u001b[39m\u001b[38;5;132;01m{self.name}\u001b[39;00m\u001b[38;5;124m!\u001b[39m\u001b[38;5;130;01m\\\"\u001b[39;00m\u001b[38;5;124m)\u001b[39m\u001b[38;5;130;01m\\n\u001b[39;00m\u001b[38;5;124m\"\u001b[39m,\n\u001b[0;32m     20\u001b[0m     \u001b[38;5;124m\"\u001b[39m\u001b[38;5;124m        else:\u001b[39m\u001b[38;5;130;01m\\n\u001b[39;00m\u001b[38;5;124m\"\u001b[39m,\n\u001b[0;32m     21\u001b[0m     \u001b[38;5;124m\"\u001b[39m\u001b[38;5;124m            print(f\u001b[39m\u001b[38;5;130;01m\\\"\u001b[39;00m\u001b[38;5;124mHello, \u001b[39m\u001b[38;5;132;01m{self.name}\u001b[39;00m\u001b[38;5;124m!\u001b[39m\u001b[38;5;130;01m\\\"\u001b[39;00m\u001b[38;5;124m)\u001b[39m\u001b[38;5;124m\"\u001b[39m\n\u001b[0;32m     22\u001b[0m    ]\n\u001b[0;32m     23\u001b[0m   },\n\u001b[0;32m     24\u001b[0m   {\n\u001b[0;32m     25\u001b[0m    \u001b[38;5;124m\"\u001b[39m\u001b[38;5;124mcell_type\u001b[39m\u001b[38;5;124m\"\u001b[39m: \u001b[38;5;124m\"\u001b[39m\u001b[38;5;124mcode\u001b[39m\u001b[38;5;124m\"\u001b[39m,\n\u001b[1;32m---> 26\u001b[0m    \u001b[38;5;124m\"\u001b[39m\u001b[38;5;124mexecution_count\u001b[39m\u001b[38;5;124m\"\u001b[39m: \u001b[43mnull\u001b[49m,\n\u001b[0;32m     27\u001b[0m    \u001b[38;5;124m\"\u001b[39m\u001b[38;5;124mid\u001b[39m\u001b[38;5;124m\"\u001b[39m: \u001b[38;5;124m\"\u001b[39m\u001b[38;5;124m1a282325\u001b[39m\u001b[38;5;124m\"\u001b[39m,\n\u001b[0;32m     28\u001b[0m    \u001b[38;5;124m\"\u001b[39m\u001b[38;5;124mmetadata\u001b[39m\u001b[38;5;124m\"\u001b[39m: {},\n\u001b[0;32m     29\u001b[0m    \u001b[38;5;124m\"\u001b[39m\u001b[38;5;124moutputs\u001b[39m\u001b[38;5;124m\"\u001b[39m: [],\n\u001b[0;32m     30\u001b[0m    \u001b[38;5;124m\"\u001b[39m\u001b[38;5;124msource\u001b[39m\u001b[38;5;124m\"\u001b[39m: []\n\u001b[0;32m     31\u001b[0m   }\n\u001b[0;32m     32\u001b[0m  ],\n\u001b[0;32m     33\u001b[0m  \u001b[38;5;124m\"\u001b[39m\u001b[38;5;124mmetadata\u001b[39m\u001b[38;5;124m\"\u001b[39m: {\n\u001b[0;32m     34\u001b[0m   \u001b[38;5;124m\"\u001b[39m\u001b[38;5;124mhide_input\u001b[39m\u001b[38;5;124m\"\u001b[39m: false,\n\u001b[0;32m     35\u001b[0m   \u001b[38;5;124m\"\u001b[39m\u001b[38;5;124mkernelspec\u001b[39m\u001b[38;5;124m\"\u001b[39m: {\n\u001b[0;32m     36\u001b[0m    \u001b[38;5;124m\"\u001b[39m\u001b[38;5;124mdisplay_name\u001b[39m\u001b[38;5;124m\"\u001b[39m: \u001b[38;5;124m\"\u001b[39m\u001b[38;5;124mPython 3 (ipykernel)\u001b[39m\u001b[38;5;124m\"\u001b[39m,\n\u001b[0;32m     37\u001b[0m    \u001b[38;5;124m\"\u001b[39m\u001b[38;5;124mlanguage\u001b[39m\u001b[38;5;124m\"\u001b[39m: \u001b[38;5;124m\"\u001b[39m\u001b[38;5;124mpython\u001b[39m\u001b[38;5;124m\"\u001b[39m,\n\u001b[0;32m     38\u001b[0m    \u001b[38;5;124m\"\u001b[39m\u001b[38;5;124mname\u001b[39m\u001b[38;5;124m\"\u001b[39m: \u001b[38;5;124m\"\u001b[39m\u001b[38;5;124mpython3\u001b[39m\u001b[38;5;124m\"\u001b[39m\n\u001b[0;32m     39\u001b[0m   },\n\u001b[0;32m     40\u001b[0m   \u001b[38;5;124m\"\u001b[39m\u001b[38;5;124mlanguage_info\u001b[39m\u001b[38;5;124m\"\u001b[39m: {\n\u001b[0;32m     41\u001b[0m    \u001b[38;5;124m\"\u001b[39m\u001b[38;5;124mcodemirror_mode\u001b[39m\u001b[38;5;124m\"\u001b[39m: {\n\u001b[0;32m     42\u001b[0m     \u001b[38;5;124m\"\u001b[39m\u001b[38;5;124mname\u001b[39m\u001b[38;5;124m\"\u001b[39m: \u001b[38;5;124m\"\u001b[39m\u001b[38;5;124mipython\u001b[39m\u001b[38;5;124m\"\u001b[39m,\n\u001b[0;32m     43\u001b[0m     \u001b[38;5;124m\"\u001b[39m\u001b[38;5;124mversion\u001b[39m\u001b[38;5;124m\"\u001b[39m: \u001b[38;5;241m3\u001b[39m\n\u001b[0;32m     44\u001b[0m    },\n\u001b[0;32m     45\u001b[0m    \u001b[38;5;124m\"\u001b[39m\u001b[38;5;124mfile_extension\u001b[39m\u001b[38;5;124m\"\u001b[39m: \u001b[38;5;124m\"\u001b[39m\u001b[38;5;124m.py\u001b[39m\u001b[38;5;124m\"\u001b[39m,\n\u001b[0;32m     46\u001b[0m    \u001b[38;5;124m\"\u001b[39m\u001b[38;5;124mmimetype\u001b[39m\u001b[38;5;124m\"\u001b[39m: \u001b[38;5;124m\"\u001b[39m\u001b[38;5;124mtext/x-python\u001b[39m\u001b[38;5;124m\"\u001b[39m,\n\u001b[0;32m     47\u001b[0m    \u001b[38;5;124m\"\u001b[39m\u001b[38;5;124mname\u001b[39m\u001b[38;5;124m\"\u001b[39m: \u001b[38;5;124m\"\u001b[39m\u001b[38;5;124mpython\u001b[39m\u001b[38;5;124m\"\u001b[39m,\n\u001b[0;32m     48\u001b[0m    \u001b[38;5;124m\"\u001b[39m\u001b[38;5;124mnbconvert_exporter\u001b[39m\u001b[38;5;124m\"\u001b[39m: \u001b[38;5;124m\"\u001b[39m\u001b[38;5;124mpython\u001b[39m\u001b[38;5;124m\"\u001b[39m,\n\u001b[0;32m     49\u001b[0m    \u001b[38;5;124m\"\u001b[39m\u001b[38;5;124mpygments_lexer\u001b[39m\u001b[38;5;124m\"\u001b[39m: \u001b[38;5;124m\"\u001b[39m\u001b[38;5;124mipython3\u001b[39m\u001b[38;5;124m\"\u001b[39m,\n\u001b[0;32m     50\u001b[0m    \u001b[38;5;124m\"\u001b[39m\u001b[38;5;124mversion\u001b[39m\u001b[38;5;124m\"\u001b[39m: \u001b[38;5;124m\"\u001b[39m\u001b[38;5;124m3.8.3\u001b[39m\u001b[38;5;124m\"\u001b[39m\n\u001b[0;32m     51\u001b[0m   },\n\u001b[0;32m     52\u001b[0m   \u001b[38;5;124m\"\u001b[39m\u001b[38;5;124mtoc\u001b[39m\u001b[38;5;124m\"\u001b[39m: {\n\u001b[0;32m     53\u001b[0m    \u001b[38;5;124m\"\u001b[39m\u001b[38;5;124mbase_numbering\u001b[39m\u001b[38;5;124m\"\u001b[39m: \u001b[38;5;241m1\u001b[39m,\n\u001b[0;32m     54\u001b[0m    \u001b[38;5;124m\"\u001b[39m\u001b[38;5;124mnav_menu\u001b[39m\u001b[38;5;124m\"\u001b[39m: {},\n\u001b[0;32m     55\u001b[0m    \u001b[38;5;124m\"\u001b[39m\u001b[38;5;124mnumber_sections\u001b[39m\u001b[38;5;124m\"\u001b[39m: true,\n\u001b[0;32m     56\u001b[0m    \u001b[38;5;124m\"\u001b[39m\u001b[38;5;124msideBar\u001b[39m\u001b[38;5;124m\"\u001b[39m: true,\n\u001b[0;32m     57\u001b[0m    \u001b[38;5;124m\"\u001b[39m\u001b[38;5;124mskip_h1_title\u001b[39m\u001b[38;5;124m\"\u001b[39m: false,\n\u001b[0;32m     58\u001b[0m    \u001b[38;5;124m\"\u001b[39m\u001b[38;5;124mtitle_cell\u001b[39m\u001b[38;5;124m\"\u001b[39m: \u001b[38;5;124m\"\u001b[39m\u001b[38;5;124mTable of Contents\u001b[39m\u001b[38;5;124m\"\u001b[39m,\n\u001b[0;32m     59\u001b[0m    \u001b[38;5;124m\"\u001b[39m\u001b[38;5;124mtitle_sidebar\u001b[39m\u001b[38;5;124m\"\u001b[39m: \u001b[38;5;124m\"\u001b[39m\u001b[38;5;124mContents\u001b[39m\u001b[38;5;124m\"\u001b[39m,\n\u001b[0;32m     60\u001b[0m    \u001b[38;5;124m\"\u001b[39m\u001b[38;5;124mtoc_cell\u001b[39m\u001b[38;5;124m\"\u001b[39m: false,\n\u001b[0;32m     61\u001b[0m    \u001b[38;5;124m\"\u001b[39m\u001b[38;5;124mtoc_position\u001b[39m\u001b[38;5;124m\"\u001b[39m: {},\n\u001b[0;32m     62\u001b[0m    \u001b[38;5;124m\"\u001b[39m\u001b[38;5;124mtoc_section_display\u001b[39m\u001b[38;5;124m\"\u001b[39m: true,\n\u001b[0;32m     63\u001b[0m    \u001b[38;5;124m\"\u001b[39m\u001b[38;5;124mtoc_window_display\u001b[39m\u001b[38;5;124m\"\u001b[39m: false\n\u001b[0;32m     64\u001b[0m   },\n\u001b[0;32m     65\u001b[0m   \u001b[38;5;124m\"\u001b[39m\u001b[38;5;124mvarInspector\u001b[39m\u001b[38;5;124m\"\u001b[39m: {\n\u001b[0;32m     66\u001b[0m    \u001b[38;5;124m\"\u001b[39m\u001b[38;5;124mcols\u001b[39m\u001b[38;5;124m\"\u001b[39m: {\n\u001b[0;32m     67\u001b[0m     \u001b[38;5;124m\"\u001b[39m\u001b[38;5;124mlenName\u001b[39m\u001b[38;5;124m\"\u001b[39m: \u001b[38;5;241m16\u001b[39m,\n\u001b[0;32m     68\u001b[0m     \u001b[38;5;124m\"\u001b[39m\u001b[38;5;124mlenType\u001b[39m\u001b[38;5;124m\"\u001b[39m: \u001b[38;5;241m16\u001b[39m,\n\u001b[0;32m     69\u001b[0m     \u001b[38;5;124m\"\u001b[39m\u001b[38;5;124mlenVar\u001b[39m\u001b[38;5;124m\"\u001b[39m: \u001b[38;5;241m40\u001b[39m\n\u001b[0;32m     70\u001b[0m    },\n\u001b[0;32m     71\u001b[0m    \u001b[38;5;124m\"\u001b[39m\u001b[38;5;124mkernels_config\u001b[39m\u001b[38;5;124m\"\u001b[39m: {\n\u001b[0;32m     72\u001b[0m     \u001b[38;5;124m\"\u001b[39m\u001b[38;5;124mpython\u001b[39m\u001b[38;5;124m\"\u001b[39m: {\n\u001b[0;32m     73\u001b[0m      \u001b[38;5;124m\"\u001b[39m\u001b[38;5;124mdelete_cmd_postfix\u001b[39m\u001b[38;5;124m\"\u001b[39m: \u001b[38;5;124m\"\u001b[39m\u001b[38;5;124m\"\u001b[39m,\n\u001b[0;32m     74\u001b[0m      \u001b[38;5;124m\"\u001b[39m\u001b[38;5;124mdelete_cmd_prefix\u001b[39m\u001b[38;5;124m\"\u001b[39m: \u001b[38;5;124m\"\u001b[39m\u001b[38;5;124mdel \u001b[39m\u001b[38;5;124m\"\u001b[39m,\n\u001b[0;32m     75\u001b[0m      \u001b[38;5;124m\"\u001b[39m\u001b[38;5;124mlibrary\u001b[39m\u001b[38;5;124m\"\u001b[39m: \u001b[38;5;124m\"\u001b[39m\u001b[38;5;124mvar_list.py\u001b[39m\u001b[38;5;124m\"\u001b[39m,\n\u001b[0;32m     76\u001b[0m      \u001b[38;5;124m\"\u001b[39m\u001b[38;5;124mvarRefreshCmd\u001b[39m\u001b[38;5;124m\"\u001b[39m: \u001b[38;5;124m\"\u001b[39m\u001b[38;5;124mprint(var_dic_list())\u001b[39m\u001b[38;5;124m\"\u001b[39m\n\u001b[0;32m     77\u001b[0m     },\n\u001b[0;32m     78\u001b[0m     \u001b[38;5;124m\"\u001b[39m\u001b[38;5;124mr\u001b[39m\u001b[38;5;124m\"\u001b[39m: {\n\u001b[0;32m     79\u001b[0m      \u001b[38;5;124m\"\u001b[39m\u001b[38;5;124mdelete_cmd_postfix\u001b[39m\u001b[38;5;124m\"\u001b[39m: \u001b[38;5;124m\"\u001b[39m\u001b[38;5;124m) \u001b[39m\u001b[38;5;124m\"\u001b[39m,\n\u001b[0;32m     80\u001b[0m      \u001b[38;5;124m\"\u001b[39m\u001b[38;5;124mdelete_cmd_prefix\u001b[39m\u001b[38;5;124m\"\u001b[39m: \u001b[38;5;124m\"\u001b[39m\u001b[38;5;124mrm(\u001b[39m\u001b[38;5;124m\"\u001b[39m,\n\u001b[0;32m     81\u001b[0m      \u001b[38;5;124m\"\u001b[39m\u001b[38;5;124mlibrary\u001b[39m\u001b[38;5;124m\"\u001b[39m: \u001b[38;5;124m\"\u001b[39m\u001b[38;5;124mvar_list.r\u001b[39m\u001b[38;5;124m\"\u001b[39m,\n\u001b[0;32m     82\u001b[0m      \u001b[38;5;124m\"\u001b[39m\u001b[38;5;124mvarRefreshCmd\u001b[39m\u001b[38;5;124m\"\u001b[39m: \u001b[38;5;124m\"\u001b[39m\u001b[38;5;124mcat(var_dic_list()) \u001b[39m\u001b[38;5;124m\"\u001b[39m\n\u001b[0;32m     83\u001b[0m     }\n\u001b[0;32m     84\u001b[0m    },\n\u001b[0;32m     85\u001b[0m    \u001b[38;5;124m\"\u001b[39m\u001b[38;5;124mtypes_to_exclude\u001b[39m\u001b[38;5;124m\"\u001b[39m: [\n\u001b[0;32m     86\u001b[0m     \u001b[38;5;124m\"\u001b[39m\u001b[38;5;124mmodule\u001b[39m\u001b[38;5;124m\"\u001b[39m,\n\u001b[0;32m     87\u001b[0m     \u001b[38;5;124m\"\u001b[39m\u001b[38;5;124mfunction\u001b[39m\u001b[38;5;124m\"\u001b[39m,\n\u001b[0;32m     88\u001b[0m     \u001b[38;5;124m\"\u001b[39m\u001b[38;5;124mbuiltin_function_or_method\u001b[39m\u001b[38;5;124m\"\u001b[39m,\n\u001b[0;32m     89\u001b[0m     \u001b[38;5;124m\"\u001b[39m\u001b[38;5;124minstance\u001b[39m\u001b[38;5;124m\"\u001b[39m,\n\u001b[0;32m     90\u001b[0m     \u001b[38;5;124m\"\u001b[39m\u001b[38;5;124m_Feature\u001b[39m\u001b[38;5;124m\"\u001b[39m\n\u001b[0;32m     91\u001b[0m    ],\n\u001b[0;32m     92\u001b[0m    \u001b[38;5;124m\"\u001b[39m\u001b[38;5;124mwindow_display\u001b[39m\u001b[38;5;124m\"\u001b[39m: false\n\u001b[0;32m     93\u001b[0m   }\n\u001b[0;32m     94\u001b[0m  },\n\u001b[0;32m     95\u001b[0m  \u001b[38;5;124m\"\u001b[39m\u001b[38;5;124mnbformat\u001b[39m\u001b[38;5;124m\"\u001b[39m: \u001b[38;5;241m4\u001b[39m,\n\u001b[0;32m     96\u001b[0m  \u001b[38;5;124m\"\u001b[39m\u001b[38;5;124mnbformat_minor\u001b[39m\u001b[38;5;124m\"\u001b[39m: \u001b[38;5;241m5\u001b[39m\n\u001b[0;32m     97\u001b[0m }\n",
      "\u001b[1;31mNameError\u001b[0m: name 'null' is not defined"
     ]
    }
   ],
   "source": [
    "#from greet import Greeter"
   ]
  },
  {
   "cell_type": "code",
   "execution_count": 51,
   "id": "106ad6ca",
   "metadata": {},
   "outputs": [],
   "source": [
    "# greet.py\n",
    "\n",
    "class Greeter:\n",
    "    def __init__(self, name, formal=False):\n",
    "        self.name = name\n",
    "        self.formal = formal\n",
    "\n",
    "    def greet(self):\n",
    "        if self.formal:\n",
    "            print(f\"Good morning, {self.name}!\")\n",
    "        else:\n",
    "            print(f\"Hello, {self.name}!\")"
   ]
  },
  {
   "cell_type": "code",
   "execution_count": 55,
   "id": "c2a9fc7b",
   "metadata": {},
   "outputs": [],
   "source": [
    "ob=Greeter(\"Anu\")"
   ]
  },
  {
   "cell_type": "code",
   "execution_count": 56,
   "id": "e67e7e6e",
   "metadata": {},
   "outputs": [
    {
     "name": "stdout",
     "output_type": "stream",
     "text": [
      "Hello, Anu!\n"
     ]
    }
   ],
   "source": [
    "ob.greet()"
   ]
  },
  {
   "cell_type": "code",
   "execution_count": 57,
   "id": "7e739bef",
   "metadata": {},
   "outputs": [
    {
     "name": "stdout",
     "output_type": "stream",
     "text": [
      "Good morning, Anu!\n"
     ]
    }
   ],
   "source": [
    "ob2=Greeter(\"Anu\",True)\n",
    "ob2.greet()"
   ]
  },
  {
   "cell_type": "markdown",
   "id": "28fd2922",
   "metadata": {},
   "source": [
    "<a id=\"5\"> <h1> Object Creation With .__new__()\n",
    "    \n",
    "When writing Python classes, you typically don’t need to provide your own implementation of the .__new__() special method. \n",
    "Most of the time, the base implementation from the built-in object class is sufficient to build an empty object of your current class.\n",
    "\n",
    "However, there are a few interesting use cases for this method. For example, you can use .__new__() to create subclasses of immutable types, such as int, float, tuple, and str."
   ]
  },
  {
   "cell_type": "code",
   "execution_count": 59,
   "id": "f0e4ef86",
   "metadata": {},
   "outputs": [],
   "source": [
    "class SomeClass:\n",
    "    def __new__(cls, *args, **kwargs):\n",
    "        instance = super().__new__(cls)\n",
    "        # Customize your instance here...\n",
    "        return instance"
   ]
  },
  {
   "cell_type": "code",
   "execution_count": 60,
   "id": "ed3805f5",
   "metadata": {},
   "outputs": [
    {
     "data": {
      "text/plain": [
       "<__main__.SomeClass at 0x24f995b8fa0>"
      ]
     },
     "execution_count": 60,
     "metadata": {},
     "output_type": "execute_result"
    }
   ],
   "source": [
    "SomeClass()"
   ]
  },
  {
   "cell_type": "code",
   "execution_count": 61,
   "id": "c3080f4c",
   "metadata": {},
   "outputs": [],
   "source": [
    "class SomeClass:\n",
    "     def __new__(cls, *args, **kwargs):\n",
    "            return super().__new__(cls, *args, **kwargs)\n",
    "     def __init__(self, value):\n",
    "        self.value = value"
   ]
  },
  {
   "cell_type": "code",
   "execution_count": 62,
   "id": "b40584c1",
   "metadata": {},
   "outputs": [
    {
     "ename": "TypeError",
     "evalue": "object.__new__() takes exactly one argument (the type to instantiate)",
     "output_type": "error",
     "traceback": [
      "\u001b[1;31m---------------------------------------------------------------------------\u001b[0m",
      "\u001b[1;31mTypeError\u001b[0m                                 Traceback (most recent call last)",
      "Cell \u001b[1;32mIn[62], line 1\u001b[0m\n\u001b[1;32m----> 1\u001b[0m \u001b[43mSomeClass\u001b[49m\u001b[43m(\u001b[49m\u001b[38;5;241;43m6\u001b[39;49m\u001b[43m)\u001b[49m\n",
      "Cell \u001b[1;32mIn[61], line 3\u001b[0m, in \u001b[0;36mSomeClass.__new__\u001b[1;34m(cls, *args, **kwargs)\u001b[0m\n\u001b[0;32m      2\u001b[0m \u001b[38;5;28;01mdef\u001b[39;00m \u001b[38;5;21m__new__\u001b[39m(\u001b[38;5;28mcls\u001b[39m, \u001b[38;5;241m*\u001b[39margs, \u001b[38;5;241m*\u001b[39m\u001b[38;5;241m*\u001b[39mkwargs):\n\u001b[1;32m----> 3\u001b[0m        \u001b[38;5;28;01mreturn\u001b[39;00m \u001b[38;5;28;43msuper\u001b[39;49m\u001b[43m(\u001b[49m\u001b[43m)\u001b[49m\u001b[38;5;241;43m.\u001b[39;49m\u001b[38;5;21;43m__new__\u001b[39;49m\u001b[43m(\u001b[49m\u001b[38;5;28;43mcls\u001b[39;49m\u001b[43m,\u001b[49m\u001b[43m \u001b[49m\u001b[38;5;241;43m*\u001b[39;49m\u001b[43margs\u001b[49m\u001b[43m,\u001b[49m\u001b[43m \u001b[49m\u001b[38;5;241;43m*\u001b[39;49m\u001b[38;5;241;43m*\u001b[39;49m\u001b[43mkwargs\u001b[49m\u001b[43m)\u001b[49m\n",
      "\u001b[1;31mTypeError\u001b[0m: object.__new__() takes exactly one argument (the type to instantiate)"
     ]
    }
   ],
   "source": [
    "SomeClass(6)"
   ]
  },
  {
   "cell_type": "markdown",
   "id": "dfbd68b3",
   "metadata": {},
   "source": [
    "# Singleton Class\n",
    "\n",
    "* Allowing Only a Single Instance in Your Classes\n",
    "* Sometimes you need to implement a class that allows the creation of a single instance only. This type of class is commonly known as a singleton class. In this situation, the .__new__() method comes in handy because it can help you restrict the number of instances that a given class can have."
   ]
  },
  {
   "cell_type": "code",
   "execution_count": 2,
   "id": "1460aba9",
   "metadata": {},
   "outputs": [
    {
     "data": {
      "text/plain": [
       "True"
      ]
     },
     "execution_count": 2,
     "metadata": {},
     "output_type": "execute_result"
    }
   ],
   "source": [
    ">>> class Singleton(object):\n",
    "...     _instance = None\n",
    "...     def __new__(cls, *args, **kwargs):\n",
    "...         if cls._instance is None:\n",
    "...             cls._instance = super().__new__(cls)\n",
    "...         return cls._instance\n",
    "...\n",
    "\n",
    ">>> first = Singleton()\n",
    ">>> second = Singleton()\n",
    ">>> first is second"
   ]
  },
  {
   "cell_type": "code",
   "execution_count": null,
   "id": "37511b1d",
   "metadata": {},
   "outputs": [],
   "source": []
  }
 ],
 "metadata": {
  "hide_input": false,
  "kernelspec": {
   "display_name": "Python 3 (ipykernel)",
   "language": "python",
   "name": "python3"
  },
  "language_info": {
   "codemirror_mode": {
    "name": "ipython",
    "version": 3
   },
   "file_extension": ".py",
   "mimetype": "text/x-python",
   "name": "python",
   "nbconvert_exporter": "python",
   "pygments_lexer": "ipython3",
   "version": "3.8.3"
  },
  "toc": {
   "base_numbering": 1,
   "nav_menu": {},
   "number_sections": true,
   "sideBar": true,
   "skip_h1_title": false,
   "title_cell": "Table of Contents",
   "title_sidebar": "Contents",
   "toc_cell": false,
   "toc_position": {},
   "toc_section_display": true,
   "toc_window_display": false
  },
  "varInspector": {
   "cols": {
    "lenName": 16,
    "lenType": 16,
    "lenVar": 40
   },
   "kernels_config": {
    "python": {
     "delete_cmd_postfix": "",
     "delete_cmd_prefix": "del ",
     "library": "var_list.py",
     "varRefreshCmd": "print(var_dic_list())"
    },
    "r": {
     "delete_cmd_postfix": ") ",
     "delete_cmd_prefix": "rm(",
     "library": "var_list.r",
     "varRefreshCmd": "cat(var_dic_list()) "
    }
   },
   "types_to_exclude": [
    "module",
    "function",
    "builtin_function_or_method",
    "instance",
    "_Feature"
   ],
   "window_display": false
  }
 },
 "nbformat": 4,
 "nbformat_minor": 5
}
